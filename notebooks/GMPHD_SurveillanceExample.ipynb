{
 "cells": [
  {
   "cell_type": "code",
   "execution_count": 1,
   "metadata": {},
   "outputs": [],
   "source": [
    "using GaussianFilters\n",
    "\n",
    "using LinearAlgebra\n",
    "using Distributions"
   ]
  },
  {
   "cell_type": "markdown",
   "metadata": {},
   "source": [
    "### Dynamics Model"
   ]
  },
  {
   "cell_type": "code",
   "execution_count": 2,
   "metadata": {},
   "outputs": [],
   "source": [
    "Δ = 1 # Sampling Period\n",
    "σ_p = 5\n",
    "\n",
    "\n",
    "F = [ Matrix{Float64}(I,2,2) Δ*Matrix{Float64}(I,2,2) ;\n",
    "    zeros(Float64,2,2) Matrix{Float64}(I,2,2) ]\n",
    "\n",
    "Q  = σ_p^2 * [ (Δ^4)/4*Matrix{Float64}(I,2,2) (Δ^3)/4*Matrix{Float64}(I,2,2) ;\n",
    "            (Δ^3)/4*Matrix{Float64}(I,2,2) (Δ^2)*Matrix{Float64}(I,2,2) ]\n",
    "\n",
    "Dyns = Dynamics(F,Q);"
   ]
  },
  {
   "cell_type": "markdown",
   "metadata": {},
   "source": [
    "### Measurement Model"
   ]
  },
  {
   "cell_type": "code",
   "execution_count": 3,
   "metadata": {},
   "outputs": [],
   "source": [
    "σ_m = 10\n",
    "\n",
    "C = [ Matrix{Float64}(I,2,2) zeros(Float64,2,2) ]\n",
    "R = σ_m^2 * Matrix{Float64}(I,2,2)\n",
    "\n",
    "Meas = Measurement(C,R);"
   ]
  },
  {
   "cell_type": "markdown",
   "metadata": {},
   "source": [
    "### Birth Model\n",
    "\n",
    "Birthing refers to an object appearing in space based on some distribution of mixed gaussians"
   ]
  },
  {
   "cell_type": "code",
   "execution_count": 4,
   "metadata": {},
   "outputs": [],
   "source": [
    "w1 = 0.1\n",
    "w2 = 0.1\n",
    "m_γ1 = [ 250 , 250 , 0 , 0]\n",
    "m_γ2 = [ -250 , -250 , 0 , 0 ]\n",
    "P_γ = Matrix(Diagonal([100 , 100 , 25 , 25]));"
   ]
  },
  {
   "cell_type": "markdown",
   "metadata": {},
   "source": [
    "### Spawn Model\n",
    "Spawning refers to a new target appearing from an already existing target"
   ]
  },
  {
   "cell_type": "code",
   "execution_count": 5,
   "metadata": {},
   "outputs": [],
   "source": [
    "Q_β = Matrix(Diagonal([100.0 , 100.0 , 400.0 , 400.0]))\n",
    "\n",
    "β = GaussianMixture([w1, w2] , [m_γ1, m_γ2] , [P_γ, P_γ])\n",
    "spawn = Spawn(β , [Dyns,Dyns]);"
   ]
  },
  {
   "cell_type": "markdown",
   "metadata": {},
   "source": [
    "### Clutter Model"
   ]
  },
  {
   "cell_type": "code",
   "execution_count": 6,
   "metadata": {},
   "outputs": [],
   "source": [
    "# Creates a uniform distriubtion given a single measurement z [px,py]\n",
    "function κ(z)\n",
    "    V = 4*10^6 #Surveillance volume\n",
    "    λ_c = 12.5*10^-6 #Average clutter returns per unit volume\n",
    "    return λ_c*V*(1/(2000^2))\n",
    "end;"
   ]
  },
  {
   "cell_type": "markdown",
   "metadata": {},
   "source": [
    "### Miscellaneous Parameters"
   ]
  },
  {
   "cell_type": "code",
   "execution_count": 7,
   "metadata": {},
   "outputs": [],
   "source": [
    "Ps = 0.99 # Probability of survival\n",
    "Pd = 0.98 # Probability of detection\n",
    "\n",
    "T = 10^-5 # Truncation threshold\n",
    "U = 4 # Merging threshold\n",
    "J_max = 10; # Max number of Gaussian terms"
   ]
  },
  {
   "cell_type": "markdown",
   "metadata": {},
   "source": [
    "### Surveillance Example Instantiation"
   ]
  },
  {
   "cell_type": "code",
   "execution_count": 8,
   "metadata": {},
   "outputs": [],
   "source": [
    "w_target1 = 1;\n",
    "w_target2 = 1;\n",
    "mu_target1 = [ -300.0 , -300.0 , 0.0 , 0.0 ]\n",
    "mu_target2 = [ 300.0 , 300.0 , 0.0 , 0.0 ]\n",
    "P_agent1 = Matrix(Diagonal([100.0 , 100.0 , 25.0 , 25.0]))\n",
    "P_agent2 = P_agent1\n",
    "γ = GaussianMixture([w_target1, w_target2] , [mu_target1, mu_target2] ,\n",
    "                    [P_agent1, P_agent2]);"
   ]
  },
  {
   "cell_type": "markdown",
   "metadata": {},
   "source": [
    "### Simulation\n",
    "Propagate the truth. Include birth at $t = 40$ s"
   ]
  },
  {
   "cell_type": "code",
   "execution_count": 9,
   "metadata": {},
   "outputs": [],
   "source": [
    "xsim = [γ.μ]\n",
    "zs = []\n",
    "\n",
    "for t = 1 : Δ : 100\n",
    "    # Simulate state\n",
    "    MVD = MvNormal(Dyns.Q)\n",
    "    x_new = [  Dyns.A*xsim[t][i] + rand(MVD,1)[:] for i=1:length(xsim[t]) ]\n",
    "    if t == 66\n",
    "        MVDspawn = MvNormal(Q_β)\n",
    "        x1 = xsim[t][1]\n",
    "        x_spawn = Dyns.A*x1 + rand(MVDspawn,1)[:]\n",
    "        push!(x_new,x_spawn)\n",
    "    end\n",
    "    if t == 40\n",
    "        x_birth = m_γ2\n",
    "        push!(x_new,x_birth)\n",
    "    end\n",
    "    push!(xsim,x_new)\n",
    "    \n",
    "    # Simulate Measurements\n",
    "    MVD = MvNormal(Meas.R)\n",
    "    z = [ Meas.C*xsim[t][i] + rand(MVD,1)[:] for i=1:length(xsim[t])]\n",
    "    push!(zs, z)\n",
    "end"
   ]
  },
  {
   "cell_type": "markdown",
   "metadata": {},
   "source": [
    "### PHD Filter\n",
    "Instantiate the filter and run it on the simulation"
   ]
  },
  {
   "cell_type": "code",
   "execution_count": 10,
   "metadata": {},
   "outputs": [],
   "source": [
    "# Instantiate the GM-PHD filter\n",
    "phd = PHDFilter(γ,spawn,Dyns,Meas,Ps,Pd,κ)\n",
    "\n",
    "# Initialize state of objects: x = γ\n",
    "x =  [γ]\n",
    "\n",
    "# Run PHD filter\n",
    "for t = 1:Δ:100\n",
    "    x_new_pruned = update(phd, x[t], zs[t] ,T,U,J_max)\n",
    "    push!(x, x_new_pruned)\n",
    "end"
   ]
  },
  {
   "cell_type": "markdown",
   "metadata": {},
   "source": [
    "### Plot Result"
   ]
  },
  {
   "cell_type": "code",
   "execution_count": 11,
   "metadata": {},
   "outputs": [
    {
     "data": {
      "image/png": "[encoded data removed]",
      "text/plain": [
       "Figure(PyObject <Figure size 640x480 with 2 Axes>)"
      ]
     },
     "metadata": {},
     "output_type": "display_data"
    },
    {
     "name": "stderr",
     "output_type": "stream",
     "text": [
      "C:\\Users\\Saint Pablo\\.julia\\conda\\3\\lib\\site-packages\\matplotlib\\figure.py:98: MatplotlibDeprecationWarning: \r\n",
      "Adding an axes using the same arguments as a previous axes currently reuses the earlier instance.  In a future version, a new instance will always be created and returned.  Meanwhile, this warning can be suppressed, and the future behavior ensured, by passing a unique label to each axes instance.\r\n",
      "  \"Adding an axes using the same arguments as a previous axes \"\r\n",
      "C:\\Users\\Saint Pablo\\.julia\\conda\\3\\lib\\site-packages\\matplotlib\\figure.py:445: UserWarning: Matplotlib is currently using agg, which is a non-GUI backend, so cannot show the figure.\r\n",
      "  % get_backend())\r\n"
     ]
    }
   ],
   "source": [
    "using PyPlot\n",
    "\n",
    "for (t,x) in enumerate(x)\n",
    "    mu_arr = multiple_target_state_extraction(x,0.5)\n",
    "    for mu in mu_arr\n",
    "        subplot(211)\n",
    "        plot(t,mu[1],\"k.\")\n",
    "        subplot(212)\n",
    "        plot(t,mu[2],\"k.\")\n",
    "    end\n",
    "    subplot(211)\n",
    "    plot(t,xsim[t][1][1],\"b.\")\n",
    "    plot(t,xsim[t][2][1],\"b.\")\n",
    "    if t > 66\n",
    "        plot(t,xsim[t][4][1],\"b.\")\n",
    "    end\n",
    "    if t > 40\n",
    "        plot(t,xsim[t][3][1],\"r.\")\n",
    "    end\n",
    "    subplot(212)\n",
    "    plot(t,xsim[t][1][2],\"b.\")\n",
    "    plot(t,xsim[t][2][2],\"b.\")\n",
    "    if t > 66\n",
    "        plot(t,xsim[t][4][2],\"b.\")\n",
    "    end\n",
    "    if t > 40\n",
    "        plot(t,xsim[t][3][2],\"r.\")\n",
    "    end\n",
    "end\n",
    "subplot(211)\n",
    "xlabel(\"time step\")\n",
    "ylabel(\"x-coordinate\")\n",
    "subplot(212)\n",
    "xlabel(\"time step\")\n",
    "ylabel(\"y-coordinate\")\n",
    "show()"
   ]
  }
 ],
 "metadata": {
  "kernelspec": {
   "display_name": "Julia 1.0.0",
   "language": "julia",
   "name": "julia-1.0"
  },
  "language_info": {
   "file_extension": ".jl",
   "mimetype": "application/julia",
   "name": "julia",
   "version": "1.0.0"
  }
 },
 "nbformat": 4,
 "nbformat_minor": 2
}
