{
 "cells": [
  {
   "cell_type": "code",
   "execution_count": 1,
   "metadata": {},
   "outputs": [],
   "source": [
    "include(\"../src/GaussianFilters.jl\")\n",
    "using .GaussianFilters # . done before adding to package repo\n",
    "\n",
    "using LinearAlgebra\n",
    "using Distributions\n",
    "using Random\n",
    "\n",
    "Random.seed!(1);"
   ]
  },
  {
   "cell_type": "markdown",
   "metadata": {},
   "source": [
    "2D Example motion example where you provide x and y force directly through an object; u = \\[Fx, Fy\\].\n",
    "\n",
    "As such a = F/m, discrete dV = adt = F/mdt. Let state vector x consist of \\[px, vx, py, vy\\]"
   ]
  },
  {
   "cell_type": "code",
   "execution_count": 2,
   "metadata": {},
   "outputs": [
    {
     "data": {
      "text/plain": [
       "LinearDynamicsModel{Float64,Float64,Float64}([1.0 0.1 0.0 0.0; 0.0 1.0 0.0 0.0; 0.0 0.0 1.0 0.1; 0.0 0.0 0.0 1.0], [0.0 0.0; 0.002 0.0; 0.0 0.0; 0.0 0.002], [2.0 0.0 0.0 0.0; 0.0 2.0 0.0 0.0; 0.0 0.0 2.0 0.0; 0.0 0.0 0.0 2.0])"
      ]
     },
     "execution_count": 2,
     "metadata": {},
     "output_type": "execute_result"
    }
   ],
   "source": [
    "dt = 0.1\n",
    "m = 50\n",
    "A = [1 dt 0 0 ; 0 1 0 0 ; 0 0 1 dt; 0 0 0 1]\n",
    "B = [0 0; dt/m 0; 0 0; 0 dt/m]\n",
    "W = 2*Matrix{Float64}(I,4,4)\n",
    "dmodel = LinearDynamicsModel(A,B,W)"
   ]
  },
  {
   "cell_type": "markdown",
   "metadata": {},
   "source": [
    "Assume we can noisily measure velocity"
   ]
  },
  {
   "cell_type": "code",
   "execution_count": 3,
   "metadata": {},
   "outputs": [
    {
     "data": {
      "text/plain": [
       "KalmanFilter(LinearDynamicsModel{Float64,Float64,Float64}([1.0 0.1 0.0 0.0; 0.0 1.0 0.0 0.0; 0.0 0.0 1.0 0.1; 0.0 0.0 0.0 1.0], [0.0 0.0; 0.002 0.0; 0.0 0.0; 0.0 0.002], [2.0 0.0 0.0 0.0; 0.0 2.0 0.0 0.0; 0.0 0.0 2.0 0.0; 0.0 0.0 0.0 2.0]), LinearObservationModel{Float64,Bool,Float64}([0.0 1.0 0.0 0.0; 0.0 0.0 0.0 1.0], Bool[false false; false false], [2.0 0.0; 0.0 2.0]))"
      ]
     },
     "execution_count": 3,
     "metadata": {},
     "output_type": "execute_result"
    }
   ],
   "source": [
    "C = [0 1.0 0 0; 0 0 0 1.0]\n",
    "V = 2*Matrix{Float64}(I,2,2)\n",
    "omodel = LinearObservationModel(C,V)\n",
    "kf = KalmanFilter(dmodel,omodel)"
   ]
  },
  {
   "cell_type": "code",
   "execution_count": 4,
   "metadata": {},
   "outputs": [
    {
     "data": {
      "text/plain": [
       "4×4 Symmetric{Float64,Array{Float64,2}}:\n",
       " 2.0  0.0  0.0  0.0\n",
       " 0.0  2.0  0.0  0.0\n",
       " 0.0  0.0  2.0  0.0\n",
       " 0.0  0.0  0.0  2.0"
      ]
     },
     "execution_count": 4,
     "metadata": {},
     "output_type": "execute_result"
    }
   ],
   "source": [
    "kf.d.W"
   ]
  },
  {
   "cell_type": "markdown",
   "metadata": {},
   "source": [
    "Initialize belief, generate action sequence (forces in a circle), simulate model "
   ]
  },
  {
   "cell_type": "code",
   "execution_count": 5,
   "metadata": {},
   "outputs": [
    {
     "data": {
      "text/plain": [
       "(Array{Float64,1}[[0.420429, 0.54079, -0.845183, -0.0147718], [-0.712056, 1.18077, 2.39908, -3.22092], [0.231509, 2.74204, 2.72582, -3.93965], [-0.475261, 0.429474, 2.50265, -4.97137], [0.515297, 1.39956, 1.91588, -3.02154], [-1.07016, 1.50857, 1.38019, -5.93524], [-0.116465, 2.76384, 1.32209, -6.75237], [-1.66307, 2.45476, 0.746507, -6.15607], [-1.12575, 1.18099, -1.07126, -4.43], [-1.08635, 2.39427, -1.55706, -4.79718]  …  [-5.78496, -7.4135, -54.1751, -3.693], [-6.15876, -6.94901, -55.0987, -5.47124], [-7.74577, -6.23461, -54.0395, -4.26124], [-8.98974, -7.14771, -54.4639, -6.22198], [-9.26235, -7.82595, -54.834, -6.22635], [-12.2017, -10.0606, -55.581, -6.59939], [-14.9616, -12.0046, -55.991, -8.09604], [-17.6645, -12.446, -57.9026, -7.88497], [-19.2891, -9.39122, -58.6928, -6.7419], [-21.5876, -10.21, -58.0268, -6.3973]], Any[[-0.712056, 1.18077, 2.39908, -3.22092], [0.231509, 2.74204, 2.72582, -3.93965], [-0.475261, 0.429474, 2.50265, -4.97137], [0.515297, 1.39956, 1.91588, -3.02154], [-1.07016, 1.50857, 1.38019, -5.93524], [-0.116465, 2.76384, 1.32209, -6.75237], [-1.66307, 2.45476, 0.746507, -6.15607], [-1.12575, 1.18099, -1.07126, -4.43], [-1.08635, 2.39427, -1.55706, -4.79718], [-2.47274, 5.17819, -4.11656, -5.39741]  …  [-5.78496, -7.4135, -54.1751, -3.693], [-6.15876, -6.94901, -55.0987, -5.47124], [-7.74577, -6.23461, -54.0395, -4.26124], [-8.98974, -7.14771, -54.4639, -6.22198], [-9.26235, -7.82595, -54.834, -6.22635], [-12.2017, -10.0606, -55.581, -6.59939], [-14.9616, -12.0046, -55.991, -8.09604], [-17.6645, -12.446, -57.9026, -7.88497], [-19.2891, -9.39122, -58.6928, -6.7419], [-21.5876, -10.21, -58.0268, -6.3973]])"
      ]
     },
     "execution_count": 5,
     "metadata": {},
     "output_type": "execute_result"
    }
   ],
   "source": [
    "times = 0:dt:10\n",
    "Fmag = 100\n",
    "action_sequence = [[Fmag*cos(t), Fmag*sin(t)] for t in times]\n",
    "b0 = GaussianBelief([0.0,0.0,0.0,0.0], 2.0*Matrix{Float64}(I,4,4))\n",
    "\n",
    "sim_states, sim_measurements = simulation(b0,action_sequence,kf)"
   ]
  },
  {
   "cell_type": "markdown",
   "metadata": {},
   "source": [
    "### Plot"
   ]
  },
  {
   "cell_type": "code",
   "execution_count": null,
   "metadata": {},
   "outputs": [],
   "source": [
    "using PyPlot\n",
    "\n",
    "figure()\n",
    "## plot truths\n",
    "# aircraft carrier\n",
    "x = [k[1] for k in x_ac_truth]\n",
    "y = [k[2] for k in x_ac_truth]\n",
    "plot(x,y,label=\"Aircraft Carrier Truth\",\"b\")\n",
    "\n",
    "# airplane 1\n",
    "x = [k[1] for k in x_ap1_truth]\n",
    "y = [k[2] for k in x_ap1_truth]\n",
    "plot(x,y,label=\"Airplane Truths\",\"r\")\n",
    "\n",
    "# airplane 2\n",
    "x = [k[1] for k in x_ap2_truth]\n",
    "y = [k[2] for k in x_ap2_truth]\n",
    "plot(x,y,\"r\")\n",
    "\n",
    "# airplane 3\n",
    "x = [k[1] for k in x_ap3_truth]\n",
    "y = [k[2] for k in x_ap3_truth]\n",
    "plot(x,y,\"r\")\n",
    "\n",
    "# airplane 4\n",
    "x = [k[1] for k in x_ap4_truth]\n",
    "y = [k[2] for k in x_ap4_truth]\n",
    "plot(x,y,\"r\")\n",
    "\n",
    "## plot estimates\n",
    "for x in x_est\n",
    "    for mu in x\n",
    "        plot(mu[1],mu[2],\"k.\")\n",
    "    end\n",
    "end\n",
    "\n",
    "## Formatting\n",
    "title(\"Aircraft Carrier Example\")\n",
    "xlabel(\"x (m)\")\n",
    "ylabel(\"y (m)\")\n",
    "\n",
    "plot([],[],label=\"Estimated\",\"k.\")\n",
    "\n",
    "legend()\n",
    "xlim(-50,50)\n",
    "ylim(-50,50)\n",
    "show()"
   ]
  }
 ],
 "metadata": {
  "kernelspec": {
   "display_name": "Julia 1.0.0",
   "language": "julia",
   "name": "julia-1.0"
  },
  "language_info": {
   "file_extension": ".jl",
   "mimetype": "application/julia",
   "name": "julia",
   "version": "1.0.0"
  }
 },
 "nbformat": 4,
 "nbformat_minor": 2
}
