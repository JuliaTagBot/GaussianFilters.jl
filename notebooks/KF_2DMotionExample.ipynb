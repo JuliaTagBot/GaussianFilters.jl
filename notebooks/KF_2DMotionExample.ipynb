{
 "cells": [
  {
   "cell_type": "code",
   "execution_count": 1,
   "metadata": {},
   "outputs": [],
   "source": [
    "include(\"../src/GaussianFilters.jl\")\n",
    "using .GaussianFilters # . done before adding to package repo\n",
    "\n",
    "using LinearAlgebra\n",
    "using Distributions\n",
    "using Random\n",
    "\n",
    "Random.seed!(1);"
   ]
  },
  {
   "cell_type": "markdown",
   "metadata": {},
   "source": [
    "2D Example motion example where you provide x and y force directly through an object; u = \\[Fx, Fy\\].\n",
    "\n",
    "As such a = F/m, discrete dV = adt = F/mdt. Let state vector x consist of \\[px, vx, py, vy\\]"
   ]
  },
  {
   "cell_type": "code",
   "execution_count": 2,
   "metadata": {},
   "outputs": [
    {
     "data": {
      "text/plain": [
       "LinearDynamicsModel{Float64,Float64,Float64}([1.0 0.1 0.0 0.0; 0.0 1.0 0.0 0.0; 0.0 0.0 1.0 0.1; 0.0 0.0 0.0 1.0], [0.0 0.0; 0.002 0.0; 0.0 0.0; 0.0 0.002], [2.0 0.0 0.0 0.0; 0.0 2.0 0.0 0.0; 0.0 0.0 2.0 0.0; 0.0 0.0 0.0 2.0])"
      ]
     },
     "execution_count": 2,
     "metadata": {},
     "output_type": "execute_result"
    }
   ],
   "source": [
    "dt = 0.1\n",
    "m = 50\n",
    "A = [1 dt 0 0 ; 0 1 0 0 ; 0 0 1 dt; 0 0 0 1]\n",
    "B = [0 0; dt/m 0; 0 0; 0 dt/m]\n",
    "W = 2*Matrix{Float64}(I,4,4)\n",
    "dmodel = LinearDynamicsModel(A,B,W)"
   ]
  },
  {
   "cell_type": "markdown",
   "metadata": {},
   "source": [
    "Assume we can noisily measure velocity"
   ]
  },
  {
   "cell_type": "code",
   "execution_count": 3,
   "metadata": {},
   "outputs": [
    {
     "data": {
      "text/plain": [
       "KalmanFilter(LinearDynamicsModel{Float64,Float64,Float64}([1.0 0.1 0.0 0.0; 0.0 1.0 0.0 0.0; 0.0 0.0 1.0 0.1; 0.0 0.0 0.0 1.0], [0.0 0.0; 0.002 0.0; 0.0 0.0; 0.0 0.002], [2.0 0.0 0.0 0.0; 0.0 2.0 0.0 0.0; 0.0 0.0 2.0 0.0; 0.0 0.0 0.0 2.0]), LinearObservationModel{Float64,Bool,Float64}([0.0 1.0 0.0 0.0; 0.0 0.0 0.0 1.0], Bool[false false; false false], [2.0 0.0; 0.0 2.0]))"
      ]
     },
     "execution_count": 3,
     "metadata": {},
     "output_type": "execute_result"
    }
   ],
   "source": [
    "C = [0 1.0 0 0; 0 0 0 1.0]\n",
    "V = 2*Matrix{Float64}(I,2,2)\n",
    "omodel = LinearObservationModel(C,V)\n",
    "kf = KalmanFilter(dmodel,omodel)"
   ]
  },
  {
   "cell_type": "code",
   "execution_count": 4,
   "metadata": {},
   "outputs": [
    {
     "data": {
      "text/plain": [
       "4×4 Symmetric{Float64,Array{Float64,2}}:\n",
       " 2.0  0.0  0.0  0.0\n",
       " 0.0  2.0  0.0  0.0\n",
       " 0.0  0.0  2.0  0.0\n",
       " 0.0  0.0  0.0  2.0"
      ]
     },
     "execution_count": 4,
     "metadata": {},
     "output_type": "execute_result"
    }
   ],
   "source": [
    "kf.d.W"
   ]
  },
  {
   "cell_type": "markdown",
   "metadata": {},
   "source": [
    "Initialize belief, generate action sequence (forces in a circle), simulate model "
   ]
  },
  {
   "cell_type": "code",
   "execution_count": 10,
   "metadata": {},
   "outputs": [
    {
     "data": {
      "text/plain": [
       "(Array{Float64,1}[[-0.0233883, -0.771006, 0.188429, -0.0307094], [2.20848, 1.12473, 0.198476, 1.37911], [2.57996, 3.01886, -1.94447, 2.88357], [7.3003, 3.54722, -2.06221, 5.46942], [8.08037, 9.30228, -1.49048, 7.56835], [7.3545, 12.111, -1.81776, 5.63337], [9.99438, 14.8961, 1.43499, 6.07053], [15.0879, 14.9296, 0.110602, 6.69035], [17.6574, 13.8381, 3.02963, 8.12331], [18.1407, 14.8385, 5.23924, 9.3341]  …  [73.5567, 14.9781, 197.284, 39.1071], [77.5935, 11.7177, 201.826, 36.7653], [76.9509, 10.5109, 204.618, 35.0597], [79.1657, 8.05636, 208.84, 35.4014], [81.027, 5.23827, 213.435, 35.5039], [83.5402, 4.36501, 220.373, 35.6346], [82.1202, 2.40328, 224.773, 34.5503], [80.6469, 5.07665, 230.053, 34.3385], [82.3491, 2.35849, 234.772, 34.33], [81.8743, 2.3118, 238.715, 30.8865]], Any[[2.20848, 1.12473, 0.198476, 1.37911], [2.57996, 3.01886, -1.94447, 2.88357], [7.3003, 3.54722, -2.06221, 5.46942], [8.08037, 9.30228, -1.49048, 7.56835], [7.3545, 12.111, -1.81776, 5.63337], [9.99438, 14.8961, 1.43499, 6.07053], [15.0879, 14.9296, 0.110602, 6.69035], [17.6574, 13.8381, 3.02963, 8.12331], [18.1407, 14.8385, 5.23924, 9.3341], [19.2548, 18.8849, 7.86015, 12.5131]  …  [73.5567, 14.9781, 197.284, 39.1071], [77.5935, 11.7177, 201.826, 36.7653], [76.9509, 10.5109, 204.618, 35.0597], [79.1657, 8.05636, 208.84, 35.4014], [81.027, 5.23827, 213.435, 35.5039], [83.5402, 4.36501, 220.373, 35.6346], [82.1202, 2.40328, 224.773, 34.5503], [80.6469, 5.07665, 230.053, 34.3385], [82.3491, 2.35849, 234.772, 34.33], [81.8743, 2.3118, 238.715, 30.8865]])"
      ]
     },
     "execution_count": 10,
     "metadata": {},
     "output_type": "execute_result"
    }
   ],
   "source": [
    "times = 0:dt:10\n",
    "Fmag = 1000\n",
    "action_sequence = [[Fmag*cos(t), Fmag*sin(t)] for t in times]\n",
    "b0 = GaussianBelief([0.0,0.0,0.0,0.0], 2.0*Matrix{Float64}(I,4,4))\n",
    "\n",
    "sim_states, sim_measurements = simulation(b0,action_sequence,kf)"
   ]
  },
  {
   "cell_type": "code",
   "execution_count": null,
   "metadata": {},
   "outputs": [],
   "source": []
  },
  {
   "cell_type": "markdown",
   "metadata": {},
   "source": [
    "### Plot"
   ]
  },
  {
   "cell_type": "code",
   "execution_count": 6,
   "metadata": {},
   "outputs": [],
   "source": [
    "using Plots"
   ]
  },
  {
   "cell_type": "code",
   "execution_count": 11,
   "metadata": {},
   "outputs": [
    {
     "data": {
      "image/svg+xml": [
       "<?xml version=\"1.0\" encoding=\"utf-8\"?>\n",
       "<svg xmlns=\"http://www.w3.org/2000/svg\" xmlns:xlink=\"http://www.w3.org/1999/xlink\" width=\"600\" height=\"400\" viewBox=\"0 0 2400 1600\">\n",
       "<defs>\n",
       "  <clipPath id=\"clip3100\">\n",
       "    <rect x=\"0\" y=\"0\" width=\"2000\" height=\"2000\"/>\n",
       "  </clipPath>\n",
       "</defs>\n",
       "<defs>\n",
       "  <clipPath id=\"clip3101\">\n",
       "    <rect x=\"0\" y=\"0\" width=\"2400\" height=\"1600\"/>\n",
       "  </clipPath>\n",
       "</defs>\n",
       "<polygon clip-path=\"url(#clip3101)\" points=\"\n",
       "0,1600 2400,1600 2400,0 0,0 \n",
       "  \" fill=\"#ffffff\" fill-rule=\"evenodd\" fill-opacity=\"1\"/>\n",
       "<defs>\n",
       "  <clipPath id=\"clip3102\">\n",
       "    <rect x=\"480\" y=\"0\" width=\"1681\" height=\"1600\"/>\n",
       "  </clipPath>\n",
       "</defs>\n",
       "<polygon clip-path=\"url(#clip3101)\" points=\"\n",
       "174.775,1503.47 2321.26,1503.47 2321.26,47.2441 174.775,47.2441 \n",
       "  \" fill=\"#ffffff\" fill-rule=\"evenodd\" fill-opacity=\"1\"/>\n",
       "<defs>\n",
       "  <clipPath id=\"clip3103\">\n",
       "    <rect x=\"174\" y=\"47\" width=\"2147\" height=\"1457\"/>\n",
       "  </clipPath>\n",
       "</defs>\n",
       "<polyline clip-path=\"url(#clip3103)\" style=\"stroke:#000000; stroke-width:2; stroke-opacity:0.1; fill:none\" points=\"\n",
       "  236.092,1503.47 236.092,47.2441 \n",
       "  \"/>\n",
       "<polyline clip-path=\"url(#clip3103)\" style=\"stroke:#000000; stroke-width:2; stroke-opacity:0.1; fill:none\" points=\"\n",
       "  720.749,1503.47 720.749,47.2441 \n",
       "  \"/>\n",
       "<polyline clip-path=\"url(#clip3103)\" style=\"stroke:#000000; stroke-width:2; stroke-opacity:0.1; fill:none\" points=\"\n",
       "  1205.41,1503.47 1205.41,47.2441 \n",
       "  \"/>\n",
       "<polyline clip-path=\"url(#clip3103)\" style=\"stroke:#000000; stroke-width:2; stroke-opacity:0.1; fill:none\" points=\"\n",
       "  1690.06,1503.47 1690.06,47.2441 \n",
       "  \"/>\n",
       "<polyline clip-path=\"url(#clip3103)\" style=\"stroke:#000000; stroke-width:2; stroke-opacity:0.1; fill:none\" points=\"\n",
       "  2174.72,1503.47 2174.72,47.2441 \n",
       "  \"/>\n",
       "<polyline clip-path=\"url(#clip3103)\" style=\"stroke:#000000; stroke-width:2; stroke-opacity:0.1; fill:none\" points=\"\n",
       "  174.775,1450.49 2321.26,1450.49 \n",
       "  \"/>\n",
       "<polyline clip-path=\"url(#clip3103)\" style=\"stroke:#000000; stroke-width:2; stroke-opacity:0.1; fill:none\" points=\"\n",
       "  174.775,1165.21 2321.26,1165.21 \n",
       "  \"/>\n",
       "<polyline clip-path=\"url(#clip3103)\" style=\"stroke:#000000; stroke-width:2; stroke-opacity:0.1; fill:none\" points=\"\n",
       "  174.775,879.924 2321.26,879.924 \n",
       "  \"/>\n",
       "<polyline clip-path=\"url(#clip3103)\" style=\"stroke:#000000; stroke-width:2; stroke-opacity:0.1; fill:none\" points=\"\n",
       "  174.775,594.639 2321.26,594.639 \n",
       "  \"/>\n",
       "<polyline clip-path=\"url(#clip3103)\" style=\"stroke:#000000; stroke-width:2; stroke-opacity:0.1; fill:none\" points=\"\n",
       "  174.775,309.353 2321.26,309.353 \n",
       "  \"/>\n",
       "<polyline clip-path=\"url(#clip3101)\" style=\"stroke:#000000; stroke-width:4; stroke-opacity:1; fill:none\" points=\"\n",
       "  174.775,1503.47 2321.26,1503.47 \n",
       "  \"/>\n",
       "<polyline clip-path=\"url(#clip3101)\" style=\"stroke:#000000; stroke-width:4; stroke-opacity:1; fill:none\" points=\"\n",
       "  174.775,1503.47 174.775,47.2441 \n",
       "  \"/>\n",
       "<polyline clip-path=\"url(#clip3101)\" style=\"stroke:#000000; stroke-width:4; stroke-opacity:1; fill:none\" points=\"\n",
       "  236.092,1503.47 236.092,1481.63 \n",
       "  \"/>\n",
       "<polyline clip-path=\"url(#clip3101)\" style=\"stroke:#000000; stroke-width:4; stroke-opacity:1; fill:none\" points=\"\n",
       "  720.749,1503.47 720.749,1481.63 \n",
       "  \"/>\n",
       "<polyline clip-path=\"url(#clip3101)\" style=\"stroke:#000000; stroke-width:4; stroke-opacity:1; fill:none\" points=\"\n",
       "  1205.41,1503.47 1205.41,1481.63 \n",
       "  \"/>\n",
       "<polyline clip-path=\"url(#clip3101)\" style=\"stroke:#000000; stroke-width:4; stroke-opacity:1; fill:none\" points=\"\n",
       "  1690.06,1503.47 1690.06,1481.63 \n",
       "  \"/>\n",
       "<polyline clip-path=\"url(#clip3101)\" style=\"stroke:#000000; stroke-width:4; stroke-opacity:1; fill:none\" points=\"\n",
       "  2174.72,1503.47 2174.72,1481.63 \n",
       "  \"/>\n",
       "<polyline clip-path=\"url(#clip3101)\" style=\"stroke:#000000; stroke-width:4; stroke-opacity:1; fill:none\" points=\"\n",
       "  174.775,1450.49 206.972,1450.49 \n",
       "  \"/>\n",
       "<polyline clip-path=\"url(#clip3101)\" style=\"stroke:#000000; stroke-width:4; stroke-opacity:1; fill:none\" points=\"\n",
       "  174.775,1165.21 206.972,1165.21 \n",
       "  \"/>\n",
       "<polyline clip-path=\"url(#clip3101)\" style=\"stroke:#000000; stroke-width:4; stroke-opacity:1; fill:none\" points=\"\n",
       "  174.775,879.924 206.972,879.924 \n",
       "  \"/>\n",
       "<polyline clip-path=\"url(#clip3101)\" style=\"stroke:#000000; stroke-width:4; stroke-opacity:1; fill:none\" points=\"\n",
       "  174.775,594.639 206.972,594.639 \n",
       "  \"/>\n",
       "<polyline clip-path=\"url(#clip3101)\" style=\"stroke:#000000; stroke-width:4; stroke-opacity:1; fill:none\" points=\"\n",
       "  174.775,309.353 206.972,309.353 \n",
       "  \"/>\n",
       "<g clip-path=\"url(#clip3101)\">\n",
       "<text style=\"fill:#000000; fill-opacity:1; font-family:Arial,Helvetica Neue,Helvetica,sans-serif; font-size:48px; text-anchor:middle;\" transform=\"rotate(0, 236.092, 1557.47)\" x=\"236.092\" y=\"1557.47\">0</text>\n",
       "</g>\n",
       "<g clip-path=\"url(#clip3101)\">\n",
       "<text style=\"fill:#000000; fill-opacity:1; font-family:Arial,Helvetica Neue,Helvetica,sans-serif; font-size:48px; text-anchor:middle;\" transform=\"rotate(0, 720.749, 1557.47)\" x=\"720.749\" y=\"1557.47\">20</text>\n",
       "</g>\n",
       "<g clip-path=\"url(#clip3101)\">\n",
       "<text style=\"fill:#000000; fill-opacity:1; font-family:Arial,Helvetica Neue,Helvetica,sans-serif; font-size:48px; text-anchor:middle;\" transform=\"rotate(0, 1205.41, 1557.47)\" x=\"1205.41\" y=\"1557.47\">40</text>\n",
       "</g>\n",
       "<g clip-path=\"url(#clip3101)\">\n",
       "<text style=\"fill:#000000; fill-opacity:1; font-family:Arial,Helvetica Neue,Helvetica,sans-serif; font-size:48px; text-anchor:middle;\" transform=\"rotate(0, 1690.06, 1557.47)\" x=\"1690.06\" y=\"1557.47\">60</text>\n",
       "</g>\n",
       "<g clip-path=\"url(#clip3101)\">\n",
       "<text style=\"fill:#000000; fill-opacity:1; font-family:Arial,Helvetica Neue,Helvetica,sans-serif; font-size:48px; text-anchor:middle;\" transform=\"rotate(0, 2174.72, 1557.47)\" x=\"2174.72\" y=\"1557.47\">80</text>\n",
       "</g>\n",
       "<g clip-path=\"url(#clip3101)\">\n",
       "<text style=\"fill:#000000; fill-opacity:1; font-family:Arial,Helvetica Neue,Helvetica,sans-serif; font-size:48px; text-anchor:end;\" transform=\"rotate(0, 150.775, 1467.99)\" x=\"150.775\" y=\"1467.99\">0</text>\n",
       "</g>\n",
       "<g clip-path=\"url(#clip3101)\">\n",
       "<text style=\"fill:#000000; fill-opacity:1; font-family:Arial,Helvetica Neue,Helvetica,sans-serif; font-size:48px; text-anchor:end;\" transform=\"rotate(0, 150.775, 1182.71)\" x=\"150.775\" y=\"1182.71\">50</text>\n",
       "</g>\n",
       "<g clip-path=\"url(#clip3101)\">\n",
       "<text style=\"fill:#000000; fill-opacity:1; font-family:Arial,Helvetica Neue,Helvetica,sans-serif; font-size:48px; text-anchor:end;\" transform=\"rotate(0, 150.775, 897.424)\" x=\"150.775\" y=\"897.424\">100</text>\n",
       "</g>\n",
       "<g clip-path=\"url(#clip3101)\">\n",
       "<text style=\"fill:#000000; fill-opacity:1; font-family:Arial,Helvetica Neue,Helvetica,sans-serif; font-size:48px; text-anchor:end;\" transform=\"rotate(0, 150.775, 612.139)\" x=\"150.775\" y=\"612.139\">150</text>\n",
       "</g>\n",
       "<g clip-path=\"url(#clip3101)\">\n",
       "<text style=\"fill:#000000; fill-opacity:1; font-family:Arial,Helvetica Neue,Helvetica,sans-serif; font-size:48px; text-anchor:end;\" transform=\"rotate(0, 150.775, 326.853)\" x=\"150.775\" y=\"326.853\">200</text>\n",
       "</g>\n",
       "<polyline clip-path=\"url(#clip3103)\" style=\"stroke:#009af9; stroke-width:4; stroke-opacity:1; fill:none\" points=\"\n",
       "  235.525,1449.42 289.609,1449.36 298.611,1461.59 412.999,1462.26 431.902,1459 414.312,1460.87 478.284,1442.31 601.714,1449.86 663.98,1433.21 675.693,1420.6 \n",
       "  702.69,1405.65 754.418,1390.98 798.377,1368.19 860.555,1362.32 1006,1353.43 1053.34,1346.3 1109.24,1331.18 1125.51,1312.58 1166.43,1282.36 1221.22,1263.38 \n",
       "  1268.41,1254.33 1342.93,1223 1425.1,1203.38 1454.68,1202.27 1530.68,1182.98 1578.92,1162.47 1541.5,1151.35 1536.94,1140.36 1541.71,1116.21 1584.08,1093.61 \n",
       "  1637.06,1071.66 1631.71,1047.97 1659.44,1037.09 1666.97,1024.31 1650.82,993.406 1648.08,960.007 1661.07,942.385 1606.93,919.059 1577.97,892.611 1537.09,870.029 \n",
       "  1514.25,869.907 1459.19,837.595 1465.96,819.255 1403.02,789.366 1349.34,777.036 1297.01,744.582 1204.81,727.124 1185.79,705.722 1160.52,696.587 1091.72,687.687 \n",
       "  1044.85,678.343 990.972,675.528 948.95,671.736 916.319,659.32 902.833,656.533 867.259,650.272 804.896,653.175 743.306,651.039 643.084,646.643 643.504,647.518 \n",
       "  621.973,641.701 578.351,654.325 564.075,662.399 606.697,657.158 626.931,661.26 611.126,663.918 622.591,683.076 707.659,687.605 767.603,692.602 807.811,685.053 \n",
       "  825.049,671.94 808.205,655.65 857.1,657.221 975.013,645.476 1010.23,641.846 1068.39,640.329 1184.46,643.923 1261.58,643.243 1277.95,626.575 1332.05,610.909 \n",
       "  1445.39,585.026 1539.88,564.346 1571.83,550.757 1632.99,534.873 1620.2,503.683 1695.44,494.418 1734.27,470.547 1764.33,447.186 1819.01,425.266 1833.9,422.222 \n",
       "  1892.87,399.909 1953.42,356.825 2018.58,324.851 2116.4,298.934 2100.83,283.006 2154.51,258.913 2199.61,232.696 2260.51,193.113 2226.1,168.004 2190.4,137.88 \n",
       "  2231.65,110.952 2220.14,88.4582 \n",
       "  \"/>\n",
       "<polygon clip-path=\"url(#clip3101)\" points=\"\n",
       "1958.43,251.724 2249.26,251.724 2249.26,130.764 1958.43,130.764 \n",
       "  \" fill=\"#ffffff\" fill-rule=\"evenodd\" fill-opacity=\"1\"/>\n",
       "<polyline clip-path=\"url(#clip3101)\" style=\"stroke:#000000; stroke-width:4; stroke-opacity:1; fill:none\" points=\"\n",
       "  1958.43,251.724 2249.26,251.724 2249.26,130.764 1958.43,130.764 1958.43,251.724 \n",
       "  \"/>\n",
       "<polyline clip-path=\"url(#clip3101)\" style=\"stroke:#009af9; stroke-width:4; stroke-opacity:1; fill:none\" points=\"\n",
       "  1982.43,191.244 2126.43,191.244 \n",
       "  \"/>\n",
       "<g clip-path=\"url(#clip3101)\">\n",
       "<text style=\"fill:#000000; fill-opacity:1; font-family:Arial,Helvetica Neue,Helvetica,sans-serif; font-size:48px; text-anchor:start;\" transform=\"rotate(0, 2150.43, 208.744)\" x=\"2150.43\" y=\"208.744\">y1</text>\n",
       "</g>\n",
       "</svg>\n"
      ]
     },
     "execution_count": 11,
     "metadata": {},
     "output_type": "execute_result"
    }
   ],
   "source": [
    "x = [x[1] for x in sim_states]\n",
    "y = [x[3] for x in sim_states]\n",
    "plot(x, y)"
   ]
  },
  {
   "cell_type": "code",
   "execution_count": 12,
   "metadata": {},
   "outputs": [
    {
     "data": {
      "image/svg+xml": [
       "<?xml version=\"1.0\" encoding=\"utf-8\"?>\n",
       "<svg xmlns=\"http://www.w3.org/2000/svg\" xmlns:xlink=\"http://www.w3.org/1999/xlink\" width=\"600\" height=\"400\" viewBox=\"0 0 2400 1600\">\n",
       "<defs>\n",
       "  <clipPath id=\"clip3300\">\n",
       "    <rect x=\"0\" y=\"0\" width=\"2000\" height=\"2000\"/>\n",
       "  </clipPath>\n",
       "</defs>\n",
       "<defs>\n",
       "  <clipPath id=\"clip3301\">\n",
       "    <rect x=\"0\" y=\"0\" width=\"2400\" height=\"1600\"/>\n",
       "  </clipPath>\n",
       "</defs>\n",
       "<polygon clip-path=\"url(#clip3301)\" points=\"\n",
       "0,1600 2400,1600 2400,0 0,0 \n",
       "  \" fill=\"#ffffff\" fill-rule=\"evenodd\" fill-opacity=\"1\"/>\n",
       "<defs>\n",
       "  <clipPath id=\"clip3302\">\n",
       "    <rect x=\"480\" y=\"0\" width=\"1681\" height=\"1600\"/>\n",
       "  </clipPath>\n",
       "</defs>\n",
       "<polygon clip-path=\"url(#clip3301)\" points=\"\n",
       "148.013,1503.47 2321.26,1503.47 2321.26,47.2441 148.013,47.2441 \n",
       "  \" fill=\"#ffffff\" fill-rule=\"evenodd\" fill-opacity=\"1\"/>\n",
       "<defs>\n",
       "  <clipPath id=\"clip3303\">\n",
       "    <rect x=\"148\" y=\"47\" width=\"2174\" height=\"1457\"/>\n",
       "  </clipPath>\n",
       "</defs>\n",
       "<polyline clip-path=\"url(#clip3303)\" style=\"stroke:#000000; stroke-width:2; stroke-opacity:0.1; fill:none\" points=\"\n",
       "  193.396,1503.47 193.396,47.2441 \n",
       "  \"/>\n",
       "<polyline clip-path=\"url(#clip3303)\" style=\"stroke:#000000; stroke-width:2; stroke-opacity:0.1; fill:none\" points=\"\n",
       "  625.202,1503.47 625.202,47.2441 \n",
       "  \"/>\n",
       "<polyline clip-path=\"url(#clip3303)\" style=\"stroke:#000000; stroke-width:2; stroke-opacity:0.1; fill:none\" points=\"\n",
       "  1057.01,1503.47 1057.01,47.2441 \n",
       "  \"/>\n",
       "<polyline clip-path=\"url(#clip3303)\" style=\"stroke:#000000; stroke-width:2; stroke-opacity:0.1; fill:none\" points=\"\n",
       "  1488.81,1503.47 1488.81,47.2441 \n",
       "  \"/>\n",
       "<polyline clip-path=\"url(#clip3303)\" style=\"stroke:#000000; stroke-width:2; stroke-opacity:0.1; fill:none\" points=\"\n",
       "  1920.62,1503.47 1920.62,47.2441 \n",
       "  \"/>\n",
       "<polyline clip-path=\"url(#clip3303)\" style=\"stroke:#000000; stroke-width:2; stroke-opacity:0.1; fill:none\" points=\"\n",
       "  148.013,1305.16 2321.26,1305.16 \n",
       "  \"/>\n",
       "<polyline clip-path=\"url(#clip3303)\" style=\"stroke:#000000; stroke-width:2; stroke-opacity:0.1; fill:none\" points=\"\n",
       "  148.013,1004.48 2321.26,1004.48 \n",
       "  \"/>\n",
       "<polyline clip-path=\"url(#clip3303)\" style=\"stroke:#000000; stroke-width:2; stroke-opacity:0.1; fill:none\" points=\"\n",
       "  148.013,703.795 2321.26,703.795 \n",
       "  \"/>\n",
       "<polyline clip-path=\"url(#clip3303)\" style=\"stroke:#000000; stroke-width:2; stroke-opacity:0.1; fill:none\" points=\"\n",
       "  148.013,403.111 2321.26,403.111 \n",
       "  \"/>\n",
       "<polyline clip-path=\"url(#clip3303)\" style=\"stroke:#000000; stroke-width:2; stroke-opacity:0.1; fill:none\" points=\"\n",
       "  148.013,102.426 2321.26,102.426 \n",
       "  \"/>\n",
       "<polyline clip-path=\"url(#clip3301)\" style=\"stroke:#000000; stroke-width:4; stroke-opacity:1; fill:none\" points=\"\n",
       "  148.013,1503.47 2321.26,1503.47 \n",
       "  \"/>\n",
       "<polyline clip-path=\"url(#clip3301)\" style=\"stroke:#000000; stroke-width:4; stroke-opacity:1; fill:none\" points=\"\n",
       "  148.013,1503.47 148.013,47.2441 \n",
       "  \"/>\n",
       "<polyline clip-path=\"url(#clip3301)\" style=\"stroke:#000000; stroke-width:4; stroke-opacity:1; fill:none\" points=\"\n",
       "  193.396,1503.47 193.396,1481.63 \n",
       "  \"/>\n",
       "<polyline clip-path=\"url(#clip3301)\" style=\"stroke:#000000; stroke-width:4; stroke-opacity:1; fill:none\" points=\"\n",
       "  625.202,1503.47 625.202,1481.63 \n",
       "  \"/>\n",
       "<polyline clip-path=\"url(#clip3301)\" style=\"stroke:#000000; stroke-width:4; stroke-opacity:1; fill:none\" points=\"\n",
       "  1057.01,1503.47 1057.01,1481.63 \n",
       "  \"/>\n",
       "<polyline clip-path=\"url(#clip3301)\" style=\"stroke:#000000; stroke-width:4; stroke-opacity:1; fill:none\" points=\"\n",
       "  1488.81,1503.47 1488.81,1481.63 \n",
       "  \"/>\n",
       "<polyline clip-path=\"url(#clip3301)\" style=\"stroke:#000000; stroke-width:4; stroke-opacity:1; fill:none\" points=\"\n",
       "  1920.62,1503.47 1920.62,1481.63 \n",
       "  \"/>\n",
       "<polyline clip-path=\"url(#clip3301)\" style=\"stroke:#000000; stroke-width:4; stroke-opacity:1; fill:none\" points=\"\n",
       "  148.013,1305.16 180.612,1305.16 \n",
       "  \"/>\n",
       "<polyline clip-path=\"url(#clip3301)\" style=\"stroke:#000000; stroke-width:4; stroke-opacity:1; fill:none\" points=\"\n",
       "  148.013,1004.48 180.612,1004.48 \n",
       "  \"/>\n",
       "<polyline clip-path=\"url(#clip3301)\" style=\"stroke:#000000; stroke-width:4; stroke-opacity:1; fill:none\" points=\"\n",
       "  148.013,703.795 180.612,703.795 \n",
       "  \"/>\n",
       "<polyline clip-path=\"url(#clip3301)\" style=\"stroke:#000000; stroke-width:4; stroke-opacity:1; fill:none\" points=\"\n",
       "  148.013,403.111 180.612,403.111 \n",
       "  \"/>\n",
       "<polyline clip-path=\"url(#clip3301)\" style=\"stroke:#000000; stroke-width:4; stroke-opacity:1; fill:none\" points=\"\n",
       "  148.013,102.426 180.612,102.426 \n",
       "  \"/>\n",
       "<g clip-path=\"url(#clip3301)\">\n",
       "<text style=\"fill:#000000; fill-opacity:1; font-family:Arial,Helvetica Neue,Helvetica,sans-serif; font-size:48px; text-anchor:middle;\" transform=\"rotate(0, 193.396, 1557.47)\" x=\"193.396\" y=\"1557.47\">-20</text>\n",
       "</g>\n",
       "<g clip-path=\"url(#clip3301)\">\n",
       "<text style=\"fill:#000000; fill-opacity:1; font-family:Arial,Helvetica Neue,Helvetica,sans-serif; font-size:48px; text-anchor:middle;\" transform=\"rotate(0, 625.202, 1557.47)\" x=\"625.202\" y=\"1557.47\">-10</text>\n",
       "</g>\n",
       "<g clip-path=\"url(#clip3301)\">\n",
       "<text style=\"fill:#000000; fill-opacity:1; font-family:Arial,Helvetica Neue,Helvetica,sans-serif; font-size:48px; text-anchor:middle;\" transform=\"rotate(0, 1057.01, 1557.47)\" x=\"1057.01\" y=\"1557.47\">0</text>\n",
       "</g>\n",
       "<g clip-path=\"url(#clip3301)\">\n",
       "<text style=\"fill:#000000; fill-opacity:1; font-family:Arial,Helvetica Neue,Helvetica,sans-serif; font-size:48px; text-anchor:middle;\" transform=\"rotate(0, 1488.81, 1557.47)\" x=\"1488.81\" y=\"1557.47\">10</text>\n",
       "</g>\n",
       "<g clip-path=\"url(#clip3301)\">\n",
       "<text style=\"fill:#000000; fill-opacity:1; font-family:Arial,Helvetica Neue,Helvetica,sans-serif; font-size:48px; text-anchor:middle;\" transform=\"rotate(0, 1920.62, 1557.47)\" x=\"1920.62\" y=\"1557.47\">20</text>\n",
       "</g>\n",
       "<g clip-path=\"url(#clip3301)\">\n",
       "<text style=\"fill:#000000; fill-opacity:1; font-family:Arial,Helvetica Neue,Helvetica,sans-serif; font-size:48px; text-anchor:end;\" transform=\"rotate(0, 124.013, 1322.66)\" x=\"124.013\" y=\"1322.66\">0</text>\n",
       "</g>\n",
       "<g clip-path=\"url(#clip3301)\">\n",
       "<text style=\"fill:#000000; fill-opacity:1; font-family:Arial,Helvetica Neue,Helvetica,sans-serif; font-size:48px; text-anchor:end;\" transform=\"rotate(0, 124.013, 1021.98)\" x=\"124.013\" y=\"1021.98\">10</text>\n",
       "</g>\n",
       "<g clip-path=\"url(#clip3301)\">\n",
       "<text style=\"fill:#000000; fill-opacity:1; font-family:Arial,Helvetica Neue,Helvetica,sans-serif; font-size:48px; text-anchor:end;\" transform=\"rotate(0, 124.013, 721.295)\" x=\"124.013\" y=\"721.295\">20</text>\n",
       "</g>\n",
       "<g clip-path=\"url(#clip3301)\">\n",
       "<text style=\"fill:#000000; fill-opacity:1; font-family:Arial,Helvetica Neue,Helvetica,sans-serif; font-size:48px; text-anchor:end;\" transform=\"rotate(0, 124.013, 420.611)\" x=\"124.013\" y=\"420.611\">30</text>\n",
       "</g>\n",
       "<g clip-path=\"url(#clip3301)\">\n",
       "<text style=\"fill:#000000; fill-opacity:1; font-family:Arial,Helvetica Neue,Helvetica,sans-serif; font-size:48px; text-anchor:end;\" transform=\"rotate(0, 124.013, 119.926)\" x=\"124.013\" y=\"119.926\">40</text>\n",
       "</g>\n",
       "<polyline clip-path=\"url(#clip3303)\" style=\"stroke:#009af9; stroke-width:4; stroke-opacity:1; fill:none\" points=\"\n",
       "  1023.72,1306.09 1105.57,1263.7 1187.36,1218.46 1210.18,1140.71 1458.69,1077.6 1579.97,1135.78 1700.23,1122.63 1701.68,1104 1654.55,1060.91 1697.75,1024.5 \n",
       "  1872.47,928.915 1909.88,795.33 1950.41,700.31 1981.85,680.248 2104.51,686.508 2048.13,669.046 2080.3,681.131 2190.6,603.18 2163.76,574.834 2086.68,538.193 \n",
       "  2155.05,507.353 2054.87,433.495 1902.12,442.8 1882.48,420.597 1763.73,424.582 1618.72,377.111 1559.44,356.235 1458.69,327.044 1474.97,288.722 1406.02,263.684 \n",
       "  1333.29,221.655 1178.69,186.778 1112.32,115.825 1008.51,107.523 927.207,101.452 771.581,132.664 673.944,176.863 661.463,115.173 633.264,141.768 569.953,193.479 \n",
       "  452.576,265.721 364.876,302.392 323.862,347.804 286.144,451.583 270.159,482.993 215.87,483.185 258.699,506.781 259.43,626.212 209.52,769.578 211.5,879.911 \n",
       "  265.087,948.456 351.311,987.903 466.948,975.668 455.083,962.221 408.181,1016.23 513.216,1105.96 640.656,1144.93 777.817,1159.31 828.5,1223.24 911.698,1287.46 \n",
       "  948.867,1359.33 1015.11,1372.59 1064.3,1395.07 1116.99,1462.26 1092.39,1450.87 1186.12,1439.3 1310.04,1360.36 1486.62,1339.11 1641.72,1330.24 1663.94,1258.05 \n",
       "  1676.77,1203.89 1695.61,1121.02 1713.69,1047.67 1768.71,962.144 1926.18,860.71 2010.89,785.333 2100.79,739.18 2158.87,686.845 2208.32,662.803 2172.37,613.457 \n",
       "  2208.74,568.785 2208.24,472.125 2193.53,428.258 2198.96,333.836 2227.55,270.422 2259.75,300.811 2124.9,238.94 1993.44,180.109 1917.13,154.848 1768.64,176.742 \n",
       "  1727.38,110.573 1688.35,88.4582 1703.77,129.276 1562.99,199.689 1510.87,250.973 1404.89,240.699 1283.2,237.617 1245.49,233.686 1160.78,266.291 1276.22,272.66 \n",
       "  1158.85,272.914 1156.83,376.454 \n",
       "  \"/>\n",
       "<polygon clip-path=\"url(#clip3301)\" points=\"\n",
       "1958.43,251.724 2249.26,251.724 2249.26,130.764 1958.43,130.764 \n",
       "  \" fill=\"#ffffff\" fill-rule=\"evenodd\" fill-opacity=\"1\"/>\n",
       "<polyline clip-path=\"url(#clip3301)\" style=\"stroke:#000000; stroke-width:4; stroke-opacity:1; fill:none\" points=\"\n",
       "  1958.43,251.724 2249.26,251.724 2249.26,130.764 1958.43,130.764 1958.43,251.724 \n",
       "  \"/>\n",
       "<polyline clip-path=\"url(#clip3301)\" style=\"stroke:#009af9; stroke-width:4; stroke-opacity:1; fill:none\" points=\"\n",
       "  1982.43,191.244 2126.43,191.244 \n",
       "  \"/>\n",
       "<g clip-path=\"url(#clip3301)\">\n",
       "<text style=\"fill:#000000; fill-opacity:1; font-family:Arial,Helvetica Neue,Helvetica,sans-serif; font-size:48px; text-anchor:start;\" transform=\"rotate(0, 2150.43, 208.744)\" x=\"2150.43\" y=\"208.744\">y1</text>\n",
       "</g>\n",
       "</svg>\n"
      ]
     },
     "execution_count": 12,
     "metadata": {},
     "output_type": "execute_result"
    }
   ],
   "source": [
    "vx = [x[2] for x in sim_states]\n",
    "vy = [x[4] for x in sim_states]\n",
    "plot(vx, vy)"
   ]
  }
 ],
 "metadata": {
  "kernelspec": {
   "display_name": "Julia 1.0.0",
   "language": "julia",
   "name": "julia-1.0"
  },
  "language_info": {
   "file_extension": ".jl",
   "mimetype": "application/julia",
   "name": "julia",
   "version": "1.0.0"
  }
 },
 "nbformat": 4,
 "nbformat_minor": 2
}
