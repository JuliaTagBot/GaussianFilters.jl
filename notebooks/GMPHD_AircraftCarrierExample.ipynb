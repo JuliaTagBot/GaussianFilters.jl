{
 "cells": [
  {
   "cell_type": "code",
   "execution_count": 1,
   "metadata": {},
   "outputs": [],
   "source": [
    "using GaussianFilters\n",
    "\n",
    "using LinearAlgebra\n",
    "using Distributions\n",
    "using Random\n",
    "\n",
    "Random.seed!(1);"
   ]
  },
  {
   "cell_type": "markdown",
   "metadata": {},
   "source": [
    "## Build PHD Filter"
   ]
  },
  {
   "cell_type": "code",
   "execution_count": 2,
   "metadata": {},
   "outputs": [],
   "source": [
    "# parameters\n",
    "σ_p = 1.0     # Standard deviation - process noise\n",
    "σ_m = 1.0    # Standard deviation - measurement noise\n",
    "Δ = 1       # Sampling Period\n",
    "r = 50      # surveillanve region (square with side length 2*r)\n",
    "v = 5   # expected velocity of target entering/leaving\n",
    "tf = 100;"
   ]
  },
  {
   "cell_type": "code",
   "execution_count": 3,
   "metadata": {},
   "outputs": [],
   "source": [
    "# Dynamics Model - Gaussian\n",
    "F = [ Matrix{Float64}(I,2,2) Δ*Matrix{Float64}(I,2,2) ;\n",
    "    zeros(Float64,2,2) Matrix{Float64}(I,2,2) ]\n",
    "Q  = σ_p^2 * [ (Δ^4)/4*Matrix{Float64}(I,2,2) (Δ^3)/4*Matrix{Float64}(I,2,2) ;\n",
    "            (Δ^3)/4*Matrix{Float64}(I,2,2) (Δ^2)*Matrix{Float64}(I,2,2) ]\n",
    "Dyns = Dynamics(F,Q);"
   ]
  },
  {
   "cell_type": "code",
   "execution_count": 4,
   "metadata": {},
   "outputs": [],
   "source": [
    "# Measurement Model\n",
    "C = [ Matrix{Float64}(I,2,2) zeros(Float64,2,2) ]\n",
    "R = σ_m^2 * Matrix{Float64}(I,2,2)\n",
    "Meas = Measurement(C,R);"
   ]
  },
  {
   "cell_type": "code",
   "execution_count": 5,
   "metadata": {},
   "outputs": [],
   "source": [
    "# birth (spontaneous) model\n",
    "w_γ = 0.01\n",
    "m_γ1 = [ -r, 0, v, 0]\n",
    "m_γ2 = [  r, 0,-v, 0]\n",
    "m_γ3 = [  0,-r, 0, v]\n",
    "m_γ4 = [  0, r, 0,-v]\n",
    "P_horz = Matrix(Diagonal([1 , 100, 1, 5]))\n",
    "P_vert = Matrix(Diagonal([100,  1, 5, 1]))\n",
    "γ = GaussianMixture([w_γ, w_γ, w_γ, w_γ] , [m_γ1, m_γ2, m_γ3, m_γ4] ,\n",
    "                    [P_horz, P_horz, P_vert, P_vert]);"
   ]
  },
  {
   "cell_type": "code",
   "execution_count": 6,
   "metadata": {},
   "outputs": [],
   "source": [
    "# Spawn (from existing targets) model\n",
    "w_β = 0.01\n",
    "Q_β = Matrix(Diagonal([1.0 , 1.0 , 5.0 , 5.0]))\n",
    "β = GaussianMixture([w_β] , [[0.0,0.0,0.0,0.0]] , [Q_β])\n",
    "spawn = Spawn(β, [Dyns]);"
   ]
  },
  {
   "cell_type": "code",
   "execution_count": 7,
   "metadata": {},
   "outputs": [],
   "source": [
    "# Clutter model\n",
    "λ_c = 12.5*10^-6    # Average clutter returns per unit volume\n",
    "κ(z) = λ_c;"
   ]
  },
  {
   "cell_type": "code",
   "execution_count": 8,
   "metadata": {},
   "outputs": [],
   "source": [
    "# Build PHD Object\n",
    "T = 10^-5   # Truncation threshold\n",
    "U = 4       # Merging threshold\n",
    "J_max = 10  # Max number of Gaussian terms\n",
    "Ps = 0.99   # Probability of survival\n",
    "Pd = 0.99   # Probability of detection\n",
    "\n",
    "phd = PHDFilter(γ,spawn,[Dyns],Meas,Ps,Pd,κ);"
   ]
  },
  {
   "cell_type": "markdown",
   "metadata": {},
   "source": [
    "## Simulate System"
   ]
  },
  {
   "cell_type": "code",
   "execution_count": 9,
   "metadata": {},
   "outputs": [],
   "source": [
    "# simulate system\n",
    "function simulateSystem(Dyns,meas,tf,dt,r)\n",
    "\n",
    "    F = Dyns.A\n",
    "    Q = Dyns.Q\n",
    "\n",
    "    C = meas.C\n",
    "    R = meas.R\n",
    "\n",
    "    # Define initial states\n",
    "    x0_ac = [-40., 20]\n",
    "    x0_ap1 = [0., -50., -0.5, 5.]\n",
    "    x0_ap2 = [-100., 0., 5., 1.]\n",
    "\n",
    "    # simulate system\n",
    "    t_arr = range(0, stop=tf, step=dt)\n",
    "\n",
    "    x_ac_arr = [[x,(x-20)^2/160] for x in -40:-40+tf]\n",
    "\n",
    "    x_ap1_arr = [x0_ap1]\n",
    "    x_ap2_arr = [x0_ap2]\n",
    "    y_arr = []\n",
    "\n",
    "    x_ap3_t = 20\n",
    "    x_ap3_arr = []\n",
    "\n",
    "    x_ap4_t = 35\n",
    "    x_ap4_arr = []\n",
    "\n",
    "    dist = MvNormal(Q)\n",
    "    dist_meas = MvNormal(R)\n",
    "\n",
    "\n",
    "\n",
    "    for (i,t) in enumerate(t_arr)\n",
    "        y_step = Array{Real,1}[]\n",
    "\n",
    "        # simulate aircraft carrier\n",
    "        x_ac = x_ac_arr[i]\n",
    "        if all(abs.(x_ac) .< r)\n",
    "            y_ac = x_ac + rand(dist_meas,1)[:]\n",
    "            push!(y_step, y_ac)\n",
    "        end\n",
    "\n",
    "        # smulate airplane 1\n",
    "        x_ap1 = x_ap1_arr[i]\n",
    "        x_ap1_new = F*x_ap1 + rand(dist,1)[:]/5\n",
    "        if all(abs.(x_ap1) .< r)\n",
    "            y_ap1 = C*x_ap1 + rand(dist_meas,1)[:]\n",
    "            push!(y_step, y_ap1)\n",
    "        end\n",
    "\n",
    "\n",
    "        # smulate airplane 2\n",
    "        x_ap2 = x_ap2_arr[i]\n",
    "        x_ap2_new = F*x_ap2 + rand(dist,1)[:]\n",
    "        if all(abs.(x_ap2) .< r)\n",
    "            y_ap2 = C*x_ap2 + rand(dist_meas,1)[:]\n",
    "            push!(y_step, y_ap2)\n",
    "        end\n",
    "\n",
    "        # spawn and simulate airplane 3\n",
    "        if t == x_ap3_t\n",
    "            x_ac_new = x_ac_arr[i+1]\n",
    "            x_ap3_new = vcat(x_ac_new,[1,0.5])\n",
    "            push!(x_ap3_arr,x_ap3_new)\n",
    "        elseif t > x_ap3_t\n",
    "            i_adj = i - x_ap3_t-1\n",
    "            x_ap3 = x_ap3_arr[i_adj]\n",
    "            x_ap3_new = F*x_ap3 + rand(dist,1)[:]/5\n",
    "            if all(abs.(x_ap3) .< r)\n",
    "                y_ap3 = C*x_ap3 + rand(dist_meas,1)[:]\n",
    "                push!(y_step, y_ap3)\n",
    "            end\n",
    "            push!(x_ap3_arr,x_ap3_new)\n",
    "        end\n",
    "\n",
    "\n",
    "        # spawn and simulate airplane 4\n",
    "        if t == x_ap4_t\n",
    "            x_ac_new = x_ac_arr[i+1]\n",
    "            x_ap4_new = vcat(x_ac_new,[1,-0.5])\n",
    "            push!(x_ap4_arr,x_ap4_new)\n",
    "        elseif t > x_ap4_t\n",
    "            i_adj = i - x_ap4_t-1\n",
    "            x_ap4 = x_ap4_arr[i_adj]\n",
    "            x_ap4_new = F*x_ap4 + rand(dist,1)[:]/5\n",
    "            if all(abs.(x_ap4) .< r)\n",
    "                y_ap4 = C*x_ap4 + rand(dist_meas,1)[:]\n",
    "                push!(y_step, y_ap4)\n",
    "            end\n",
    "            push!(x_ap4_arr,x_ap4_new)\n",
    "        end\n",
    "\n",
    "\n",
    "        push!(x_ap1_arr,x_ap1_new)\n",
    "        push!(x_ap2_arr,x_ap2_new)\n",
    "        push!(y_arr, y_step)\n",
    "    end\n",
    "\n",
    "    return x_ac_arr, x_ap1_arr, x_ap2_arr, x_ap3_arr, x_ap4_arr, y_arr\n",
    "end\n",
    "\n",
    "x_ac_truth, x_ap1_truth, x_ap2_truth, x_ap3_truth, x_ap4_truth, y_arr = simulateSystem(Dyns, Meas, tf, Δ, r);"
   ]
  },
  {
   "cell_type": "markdown",
   "metadata": {},
   "source": [
    "## Run Filter and Extract States"
   ]
  },
  {
   "cell_type": "code",
   "execution_count": 10,
   "metadata": {},
   "outputs": [],
   "source": [
    "# Define our initial Gaussian mixture belief\n",
    "w_target1 = 0.9;\n",
    "mu_target1 = [-40., 20, 1, 0]\n",
    "sigma1 = Matrix(Diagonal([5.0 , 5.0 , 1.0 , 1.0]))\n",
    "\n",
    "w_target2 = 0.5;\n",
    "# mu_target2 = [20., 20., 0., 5.] #+ rand(MvNormal(Q),1)[:]\n",
    "mu_target2 = [0., -50., -0.5, 5.] + rand(MvNormal(Q),1)[:]\n",
    "sigma2 = Matrix(Diagonal([1.0 , 1.0 , 1.0 , 1.0]))\n",
    "\n",
    "GM0 =  GaussianMixture([w_target1, w_target2] , [mu_target1, mu_target2] ,\n",
    "                    [sigma1, sigma2]);\n"
   ]
  },
  {
   "cell_type": "code",
   "execution_count": 11,
   "metadata": {},
   "outputs": [],
   "source": [
    "# Run PHD filter\n",
    "GM_arr = [GM0]\n",
    "for (i,t) in enumerate(1:Δ:tf)\n",
    "    y = y_arr[i]    # get current measurements\n",
    "    GM_new = update(phd,GM_arr[t], y, T, U, J_max)\n",
    "    push!(GM_arr, GM_new)\n",
    "end\n"
   ]
  },
  {
   "cell_type": "code",
   "execution_count": 12,
   "metadata": {},
   "outputs": [],
   "source": [
    "# extract states from GM_arr\n",
    "x_est = []\n",
    "for (i,GM) in enumerate(GM_arr)\n",
    "    x = multiple_target_state_extraction(GM,0.5)\n",
    "    push!(x_est,x)\n",
    "end"
   ]
  },
  {
   "cell_type": "markdown",
   "metadata": {},
   "source": [
    "### Plot"
   ]
  },
  {
   "cell_type": "code",
   "execution_count": 13,
   "metadata": {},
   "outputs": [
    {
     "data": {
      "image/png": "[encoded data removed]",
      "text/plain": [
       "Figure(PyObject <Figure size 640x480 with 1 Axes>)"
      ]
     },
     "metadata": {},
     "output_type": "display_data"
    },
    {
     "name": "stderr",
     "output_type": "stream",
     "text": [
      "C:\\Users\\Saint Pablo\\.julia\\conda\\3\\lib\\site-packages\\matplotlib\\figure.py:445: UserWarning: Matplotlib is currently using agg, which is a non-GUI backend, so cannot show the figure.\r\n",
      "  % get_backend())\r\n"
     ]
    }
   ],
   "source": [
    "using PyPlot\n",
    "\n",
    "figure()\n",
    "## plot truths\n",
    "# aircraft carrier\n",
    "x = [k[1] for k in x_ac_truth]\n",
    "y = [k[2] for k in x_ac_truth]\n",
    "plot(x,y,label=\"Aircraft Carrier Truth\",\"b\")\n",
    "\n",
    "# airplane 1\n",
    "x = [k[1] for k in x_ap1_truth]\n",
    "y = [k[2] for k in x_ap1_truth]\n",
    "plot(x,y,label=\"Airplane Truths\",\"r\")\n",
    "\n",
    "# airplane 2\n",
    "x = [k[1] for k in x_ap2_truth]\n",
    "y = [k[2] for k in x_ap2_truth]\n",
    "plot(x,y,\"r\")\n",
    "\n",
    "# airplane 3\n",
    "x = [k[1] for k in x_ap3_truth]\n",
    "y = [k[2] for k in x_ap3_truth]\n",
    "plot(x,y,\"r\")\n",
    "\n",
    "# airplane 4\n",
    "x = [k[1] for k in x_ap4_truth]\n",
    "y = [k[2] for k in x_ap4_truth]\n",
    "plot(x,y,\"r\")\n",
    "\n",
    "## plot estimates\n",
    "for x in x_est\n",
    "    for mu in x\n",
    "        plot(mu[1],mu[2],\"k.\")\n",
    "    end\n",
    "end\n",
    "\n",
    "## Formatting\n",
    "title(\"Aircraft Carrier Example\")\n",
    "xlabel(\"x (m)\")\n",
    "ylabel(\"y (m)\")\n",
    "\n",
    "plot([],[],label=\"Estimated\",\"k.\")\n",
    "\n",
    "legend()\n",
    "xlim(-50,50)\n",
    "ylim(-50,50)\n",
    "show()"
   ]
  }
 ],
 "metadata": {
  "kernelspec": {
   "display_name": "Julia 1.2.0",
   "language": "julia",
   "name": "julia-1.2"
  },
  "language_info": {
   "file_extension": ".jl",
   "mimetype": "application/julia",
   "name": "julia",
   "version": "1.2.0"
  }
 },
 "nbformat": 4,
 "nbformat_minor": 2
}
