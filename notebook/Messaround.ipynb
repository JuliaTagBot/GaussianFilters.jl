{
 "cells": [
  {
   "cell_type": "code",
   "execution_count": 1,
   "metadata": {},
   "outputs": [],
   "source": [
    "using LinearAlgebra\n",
    "include(\"../src/GaussianFilters.jl\")\n",
    "using Main.GaussianFilters"
   ]
  },
  {
   "cell_type": "code",
   "execution_count": 2,
   "metadata": {},
   "outputs": [
    {
     "data": {
      "text/plain": [
       "PHDFilter(GaussianMixture{Float64}(1, [1.0], Array{Float64,1}[[-0.116236, -0.0461944]], Array{Float64,2}[[1.0 0.0; 0.0 1.0]]), Spawn(GaussianMixture{Float64}(1, [1.0], Array{Float64,1}[[-0.676005, 0.28999]], Array{Float64,2}[[1.0 0.0; 0.0 1.0]]), Dynamics[Dynamics{Float64,Float64,Float64}([1.0 0.0; 0.0 1.0], [1.0 0.0; 0.0 1.0], [0.0, 0.0])]), Dynamics{Float64,Float64,Int8}([1.0 0.0; 0.0 1.0], [1.0 0.0; 0.0 1.0], Int8[]), Measurement{Float64,Float64}([-0.832725 0.000988184], [1.0]), 0.5, 0.5, k)"
      ]
     },
     "execution_count": 2,
     "metadata": {},
     "output_type": "execute_result"
    }
   ],
   "source": [
    "x0 = GaussianMixture([1.0],[randn(2)],[Matrix(1.0I,2,2)])\n",
    "Z = [randn(1)]\n",
    "k(z) = 0\n",
    "gamma = GaussianMixture([1.0],[randn(2)],[Matrix(1.0I,2,2)])\n",
    "sp_dyn = [Dynamics(Matrix(1.0I,2,2),Matrix(1.0I,2,2),[0.0, 0.0])]\n",
    "sp = Spawn(GaussianMixture([1.0],[randn(2)],[Matrix(1.0I,2,2)]), sp_dyn)\n",
    "dyn = Dynamics(Matrix(1.0I,2,2),Matrix(1.0I,2,2))\n",
    "mea = Measurement(randn(1,2),ones(1,1))\n",
    "phd = PHDFilter(gamma,sp, dyn, mea, 0.5,0.5, k)"
   ]
  },
  {
   "cell_type": "code",
   "execution_count": 3,
   "metadata": {},
   "outputs": [
    {
     "data": {
      "text/plain": [
       "GaussianMixture{Float64}(6, [0.5, 0.5, 0.25, 0.610416, 0.259722, 0.129861], Array{Float64,1}[[-0.116236, -0.0461944], [-1.49353, 0.0521642], [-1.49353, 0.0521642], [0.395703, -0.046802], [0.0332196, 0.0503524], [0.0332196, 0.0503524]], Array{Float64,2}[[1.0 0.0; 0.0 1.0], [2.0 0.0; 0.0 2.0], [2.0 0.0; 0.0 2.0], [0.590517 0.000485928; 0.000485928 0.999999], [0.837921 0.00137902; 0.00137902 2.0], [0.837921 0.00137902; 0.00137902 2.0]])"
      ]
     },
     "execution_count": 3,
     "metadata": {},
     "output_type": "execute_result"
    }
   ],
   "source": [
    "GaussianFilters.step(x0,Z,phd)"
   ]
  }
 ],
 "metadata": {
  "kernelspec": {
   "display_name": "Julia 1.0.0",
   "language": "julia",
   "name": "julia-1.0"
  },
  "language_info": {
   "file_extension": ".jl",
   "mimetype": "application/julia",
   "name": "julia",
   "version": "1.0.0"
  }
 },
 "nbformat": 4,
 "nbformat_minor": 2
}
