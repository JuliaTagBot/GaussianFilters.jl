{
 "cells": [
  {
   "cell_type": "code",
   "execution_count": 20,
   "metadata": {},
   "outputs": [
    {
     "data": {
      "text/plain": [
       "step_prune"
      ]
     },
     "execution_count": 20,
     "metadata": {},
     "output_type": "execute_result"
    }
   ],
   "source": [
    "using LinearAlgebra\n",
    "include(\"../src/classes.jl\")\n",
    "include(\"../src/PHDStep.jl\")"
   ]
  },
  {
   "cell_type": "code",
   "execution_count": 21,
   "metadata": {},
   "outputs": [
    {
     "data": {
      "text/plain": [
       "PHDFilter(GaussianMixture{Float64}(1, [1.0], Array{Float64,1}[[0.34586, -1.20057]], Array{Float64,2}[[1.0 0.0; 0.0 1.0]]), Spawn(GaussianMixture{Float64}(1, [1.0], Array{Float64,1}[[-0.0878744, -1.39424]], Array{Float64,2}[[1.0 0.0; 0.0 1.0]]), Dynamics[Dynamics{Float64,Float64,Float64}([1.0 0.0; 0.0 1.0], [1.0 0.0; 0.0 1.0], [0.0, 0.0])]), Dynamics{Float64,Float64,Int8}([1.0 0.0; 0.0 1.0], [1.0 0.0; 0.0 1.0], Int8[]), Measurement{Float64,Float64}([0.382794 -0.537994], [1.0]), 0.5, 0.5, k)"
      ]
     },
     "execution_count": 21,
     "metadata": {},
     "output_type": "execute_result"
    }
   ],
   "source": [
    "x0 = GaussianMixture([1.0],[randn(2)],[Matrix(1.0I,2,2)])\n",
    "Z = [randn(1)]\n",
    "k(z) = 0\n",
    "gamma = GaussianMixture([1.0],[randn(2)],[Matrix(1.0I,2,2)])\n",
    "sp_dyn = [Dynamics(Matrix(1.0I,2,2),Matrix(1.0I,2,2),[0.0, 0.0])]\n",
    "sp = Spawn(GaussianMixture([1.0],[randn(2)],[Matrix(1.0I,2,2)]), sp_dyn)\n",
    "dyn = Dynamics(Matrix(1.0I,2,2),Matrix(1.0I,2,2))\n",
    "mea = Measurement(randn(1,2),ones(1,1))\n",
    "phd = PHDFilter(gamma,sp, dyn, mea, 0.5,0.5, k)"
   ]
  },
  {
   "cell_type": "code",
   "execution_count": 22,
   "metadata": {},
   "outputs": [
    {
     "data": {
      "text/plain": [
       "GaussianMixture{Float64}(6, [0.5, 0.5, 0.25, 0.489466, 0.340356, 0.170178], Array{Float64,1}[[0.34586, -1.20057], [-1.1218, -0.807242], [-1.1218, -0.807242], [0.393315, -1.26727], [-0.732675, -1.35413], [-0.732675, -1.35413]], Array{Float64,2}[[1.0 0.0; 0.0 1.0], [2.0 0.0; 0.0 2.0], [2.0 0.0; 0.0 2.0], [0.897957 0.143416; 0.143416 0.798437], [1.68689 0.440059; 0.440059 1.38152], [1.68689 0.440059; 0.440059 1.38152]])"
      ]
     },
     "execution_count": 22,
     "metadata": {},
     "output_type": "execute_result"
    }
   ],
   "source": [
    "step(x0,Z,phd)"
   ]
  }
 ],
 "metadata": {
  "kernelspec": {
   "display_name": "Julia 1.0.0",
   "language": "julia",
   "name": "julia-1.0"
  },
  "language_info": {
   "file_extension": ".jl",
   "mimetype": "application/julia",
   "name": "julia",
   "version": "1.0.0"
  }
 },
 "nbformat": 4,
 "nbformat_minor": 2
}
